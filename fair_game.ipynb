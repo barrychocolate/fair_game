{
 "cells": [
  {
   "cell_type": "code",
   "execution_count": null,
   "metadata": {},
   "outputs": [],
   "source": [
    "from itertools import combinations"
   ]
  },
  {
   "cell_type": "markdown",
   "metadata": {},
   "source": [
    "# Fair Game?\n",
    "* There are gold stars hidden behind two doors of each cabinet\n",
    "* Any pair of doors are equally likely\n",
    "* The stars in the second cabinet will always be hidden behind the same doors as the stars in the first cabinet\n",
    "* Alice and Don open the door in the order shown below\n",
    "* They each open one door per second\n",
    "* The first person to find **ONE** of the stars wins\n",
    "* Alice and Don play this game over and over with the stars moving every round (rounds are independent)\n",
    "* Rounds **CAN** end in a tie\n",
    "\n",
    "Are Alice and Don equally likely to win or does on of them have an edge?\n",
    "\n",
    "![](boxes.jpg)\n"
   ]
  },
  {
   "cell_type": "code",
   "execution_count": null,
   "metadata": {},
   "outputs": [],
   "source": [
    "alice = [0,1,2,3,4,5,6,7]\n",
    "don = [0,4,1,5,2,6,3,7]"
   ]
  },
  {
   "cell_type": "code",
   "execution_count": null,
   "metadata": {},
   "outputs": [],
   "source": [
    "# Define the number of places\n",
    "places = 8\n",
    "\n",
    "# Generate all possible options of placing 2 stars in 8 places\n",
    "options = combinations(range(places), 2)\n",
    "\n",
    "# Generate all unique combinations of placing 2 stars\n",
    "options = combinations(range(places), 2)\n",
    "\n",
    "# Create a list for each option\n",
    "result_lists = []\n",
    "for option in options:\n",
    "    # Initialize a list of zeros with length equal to the number of places\n",
    "    result = [0] * places\n",
    "    # Set positions corresponding to the combination to 1\n",
    "    for pos in option:\n",
    "        result[pos] = 1\n",
    "    # Add the result to the list of results\n",
    "    result_lists.append(result)\n"
   ]
  },
  {
   "cell_type": "code",
   "execution_count": null,
   "metadata": {},
   "outputs": [],
   "source": [
    "winner=[]\n",
    "\n",
    "for result in result_lists:\n",
    "    #print(result)\n",
    "    for position in range(0, 8):\n",
    "        # alice\n",
    "        alice_box = result[alice[position]]\n",
    "        # Don\n",
    "        don_box = result[don[position]]\n",
    "        # print(f'Alice box: {alice[position]} box value: {alice_box}')\n",
    "        # print(f'Don box: {don[position]} box value: {don_box}')\n",
    "        if alice_box == 1 and don_box == 1:\n",
    "            winner.append('T')  # Tie\n",
    "            break\n",
    "        elif alice_box == 1:\n",
    "            winner.append('A')  # Alice\n",
    "            break\n",
    "        elif don_box == 1:\n",
    "            winner.append('D')  # Don\n",
    "            break\n",
    "        else:\n",
    "            pass # no star found\n",
    "        "
   ]
  },
  {
   "cell_type": "code",
   "execution_count": null,
   "metadata": {},
   "outputs": [],
   "source": [
    "# Count occurrences of T, A, and D\n",
    "count_Tie = winner.count('T')\n",
    "count_Alice = winner.count('A')\n",
    "count_Don = winner.count('D')\n"
   ]
  },
  {
   "cell_type": "code",
   "execution_count": null,
   "metadata": {},
   "outputs": [
    {
     "name": "stdout",
     "output_type": "stream",
     "text": [
      "Result: [1, 1, 0, 0, 0, 0, 0, 0] | Winner: T\n",
      "Result: [1, 0, 1, 0, 0, 0, 0, 0] | Winner: T\n",
      "Result: [1, 0, 0, 1, 0, 0, 0, 0] | Winner: T\n",
      "Result: [1, 0, 0, 0, 1, 0, 0, 0] | Winner: T\n",
      "Result: [1, 0, 0, 0, 0, 1, 0, 0] | Winner: T\n",
      "Result: [1, 0, 0, 0, 0, 0, 1, 0] | Winner: T\n",
      "Result: [1, 0, 0, 0, 0, 0, 0, 1] | Winner: T\n",
      "Result: [0, 1, 1, 0, 0, 0, 0, 0] | Winner: A\n",
      "Result: [0, 1, 0, 1, 0, 0, 0, 0] | Winner: A\n",
      "Result: [0, 1, 0, 0, 1, 0, 0, 0] | Winner: T\n",
      "Result: [0, 1, 0, 0, 0, 1, 0, 0] | Winner: A\n",
      "Result: [0, 1, 0, 0, 0, 0, 1, 0] | Winner: A\n",
      "Result: [0, 1, 0, 0, 0, 0, 0, 1] | Winner: A\n",
      "Result: [0, 0, 1, 1, 0, 0, 0, 0] | Winner: A\n",
      "Result: [0, 0, 1, 0, 1, 0, 0, 0] | Winner: D\n",
      "Result: [0, 0, 1, 0, 0, 1, 0, 0] | Winner: A\n",
      "Result: [0, 0, 1, 0, 0, 0, 1, 0] | Winner: A\n",
      "Result: [0, 0, 1, 0, 0, 0, 0, 1] | Winner: A\n",
      "Result: [0, 0, 0, 1, 1, 0, 0, 0] | Winner: D\n",
      "Result: [0, 0, 0, 1, 0, 1, 0, 0] | Winner: T\n",
      "Result: [0, 0, 0, 1, 0, 0, 1, 0] | Winner: A\n",
      "Result: [0, 0, 0, 1, 0, 0, 0, 1] | Winner: A\n",
      "Result: [0, 0, 0, 0, 1, 1, 0, 0] | Winner: D\n",
      "Result: [0, 0, 0, 0, 1, 0, 1, 0] | Winner: D\n",
      "Result: [0, 0, 0, 0, 1, 0, 0, 1] | Winner: D\n",
      "Result: [0, 0, 0, 0, 0, 1, 1, 0] | Winner: D\n",
      "Result: [0, 0, 0, 0, 0, 1, 0, 1] | Winner: D\n",
      "Result: [0, 0, 0, 0, 0, 0, 1, 1] | Winner: D\n",
      "\n",
      "Number of wins for Alice: 11\n",
      "Number of wins for Don: 8\n",
      "Number of Tie games: 9\n",
      "\n",
      "Alice is more likely to win. It is NOT a fair game\n"
     ]
    }
   ],
   "source": [
    "# Iterate through both lists and print each pair\n",
    "for result, win in zip(result_lists, winner):\n",
    "    print(f\"Result: {result} | Winner: {win}\")\n",
    "\n",
    "# Print the counts\n",
    "print(f\"\\nNumber of wins for Alice: {count_Alice}\")\n",
    "print(f\"Number of wins for Don: {count_Don}\")\n",
    "print(f\"Number of Tie games: {count_Tie}\\n\")\n",
    "\n",
    "# Determine which player is more likely to win\n",
    "if count_Alice > count_Don:\n",
    "    print(\"Alice is more likely to win. It is NOT a fair game\")\n",
    "elif count_Don > count_Alice:\n",
    "    print(\"Don is more likely to win. It is NOT a fair game\")\n",
    "else:\n",
    "    print(\"Alice and Don are equally likely to win. It IS a fair game\")"
   ]
  },
  {
   "cell_type": "code",
   "execution_count": null,
   "metadata": {},
   "outputs": [],
   "source": []
  }
 ],
 "metadata": {
  "kernelspec": {
   "display_name": "base",
   "language": "python",
   "name": "python3"
  },
  "language_info": {
   "codemirror_mode": {
    "name": "ipython",
    "version": 3
   },
   "file_extension": ".py",
   "mimetype": "text/x-python",
   "name": "python",
   "nbconvert_exporter": "python",
   "pygments_lexer": "ipython3",
   "version": "3.9.18"
  }
 },
 "nbformat": 4,
 "nbformat_minor": 2
}
